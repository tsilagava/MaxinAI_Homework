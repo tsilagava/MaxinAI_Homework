{
 "cells": [
  {
   "cell_type": "code",
   "execution_count": null,
   "metadata": {},
   "outputs": [],
   "source": [
    "%load_ext autoreload\n",
    "%autoreload 2\n",
    "\n",
    "%matplotlib inline"
   ]
  },
  {
   "cell_type": "markdown",
   "metadata": {},
   "source": [
    "## Basic setup"
   ]
  },
  {
   "cell_type": "markdown",
   "metadata": {},
   "source": [
    "Create anaconda environment\n",
    "<br>\n",
    "```bash\n",
    "conda create -n ml python=3.7.4 jupyter\n",
    "```\n",
    "Install fastai library\n",
    "<br>\n",
    "```bash\n",
    "conda install -c pytorch -c fastai fastai\n",
    "```"
   ]
  },
  {
   "cell_type": "markdown",
   "metadata": {},
   "source": [
    "# Sigma-algebras"
   ]
  },
  {
   "cell_type": "markdown",
   "metadata": {},
   "source": [
    "#### Prove that:\n",
    "Composition of mesurable functions is a mesurable function"
   ]
  },
  {
   "cell_type": "markdown",
   "metadata": {},
   "source": [
    "## Mesure"
   ]
  },
  {
   "cell_type": "markdown",
   "metadata": {},
   "source": [
    "#### Prove the following mesure properties:\n",
    "- if $A \\subset B$ then $\\mu(A) \\le \\mu(B)$\n",
    "<br>\n",
    "Proof: $(B - A) \\cup (A \\cap B) = (B - A) \\cup A = B$ and $(B - A) \\cap (A \\cap B) = \\emptyset$ so $\\mu((B - A) \\cup (A \\cap B)) = \\mu(B - A) + \\mu(A \\cap B) = \\mu(B - A) + \\mu(A) = \\mu(B)$ so $\\mu(A) \\le \\mu(B)$"
   ]
  },
  {
   "cell_type": "markdown",
   "metadata": {},
   "source": [
    "## Probability"
   ]
  },
  {
   "cell_type": "markdown",
   "metadata": {},
   "source": [
    "#### Prove that:\n",
    "For probability mesure $P$ and events $A, B, C \\subset \\Omega$\n",
    "- $P(A \\cup B) = P(A) + P(B) - P(A \\cap B)$\n",
    "<br> <br>\n",
    "<b>Proof:</b> <br> <br>\n",
    "$A \\cup B = A + A^c \\cap B$, $A$ and $A^c \\cap B$ are disjoint events, so: <br> <br>\n",
    "$P(A \\cup B) = P(A) + P(A^c \\cap B) \\ \\ \\ \\ (1)$ <br> <br>\n",
    "$B = B \\cap (A \\cup A^c) = (B \\cap A) \\cup (B \\cap A^c)$, $(B \\cap A)$ and $(B \\cap A^c)$ are disjoint events, so: <br> <br>\n",
    "$P(B) = P(B \\cap A) + P(B \\cap A^c) \\implies P(B \\cap A^c) = P(B) - P(B \\cap A) \\ \\ \\ \\ (2)$ <br> <br>\n",
    "$(1) \\land (2) \\implies$ $P(A \\cup B) = P(A) +  P(B) - P(B \\cap A)$ <br> <br>\n",
    "$\\square$ <br> <br>"
   ]
  },
  {
   "cell_type": "markdown",
   "metadata": {},
   "source": [
    "## Random variable"
   ]
  },
  {
   "cell_type": "markdown",
   "metadata": {},
   "source": [
    "#### Prove that:\n",
    "$$\n",
    "\\sigma^2 = \\operatorname{E}[X^2] - (\\operatorname{E}[X])^2\n",
    "$$\n",
    "Assuming that expectation exists\n",
    "<br>\n",
    "Denoted by $\\sigma^2$\n",
    "<br> <br>\n",
    "<b>Proof:</b> <br> <br>\n",
    "$$\\sigma^2 = \\sum_{x}(x - E[X])^2p_X(x) = \\sum_x(x^2 - 2xE[X] + (E[X])^2)p_X(x) = \\sum_x x^2 p_X(x) - 2E[X]\\sum_x x p_X{x} + (E[X])^2\\sum_x p_X(x) = E[X^2] - 2(E[x])^2 + (E[x])^2 = E[X^2] - (E[X])^2$$\n",
    "<br> <br>\n",
    "$\\square$\n",
    "<br> <br>"
   ]
  },
  {
   "cell_type": "code",
   "execution_count": null,
   "metadata": {},
   "outputs": [],
   "source": []
  }
 ],
 "metadata": {
  "kernelspec": {
   "display_name": "Python 3",
   "language": "python",
   "name": "python3"
  },
  "language_info": {
   "codemirror_mode": {
    "name": "ipython",
    "version": 3
   },
   "file_extension": ".py",
   "mimetype": "text/x-python",
   "name": "python",
   "nbconvert_exporter": "python",
   "pygments_lexer": "ipython3",
   "version": "3.7.4"
  }
 },
 "nbformat": 4,
 "nbformat_minor": 4
}

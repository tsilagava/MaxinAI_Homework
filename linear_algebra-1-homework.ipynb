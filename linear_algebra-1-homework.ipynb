{
 "cells": [
  {
   "cell_type": "code",
   "execution_count": null,
   "metadata": {},
   "outputs": [],
   "source": [
    "%load_ext autoreload\n",
    "%autoreload 2\n",
    "\n",
    "%matplotlib inline"
   ]
  },
  {
   "cell_type": "markdown",
   "metadata": {},
   "source": [
    "## Basic setup"
   ]
  },
  {
   "cell_type": "markdown",
   "metadata": {},
   "source": [
    "Create anaconda environment\n",
    "<br>\n",
    "```bash\n",
    "conda create -n ml python=3.7.4 jupyter\n",
    "```\n",
    "Install fastai library\n",
    "<br>\n",
    "```bash\n",
    "conda install -c pytorch -c fastai fastai\n",
    "```"
   ]
  },
  {
   "cell_type": "markdown",
   "metadata": {},
   "source": [
    "# Set theory basics"
   ]
  },
  {
   "cell_type": "markdown",
   "metadata": {},
   "source": [
    "#### Prove that:\n",
    "<br>\n",
    "$A \\subseteq A$ <br> <br>\n",
    "<b>Proof:</b> <br> <br>\n",
    "$\\forall x \\ x\\in A \\implies x \\in A $. So  $A \\subseteq A$.<br> <br>\n",
    "$\\square$"
   ]
  },
  {
   "cell_type": "markdown",
   "metadata": {},
   "source": [
    "#### Prove that:\n",
    "<br>\n",
    "If $A \\subseteq B$ and $B \\subseteq A$ $\\to$ $A = B$ <br> <br>\n",
    "<b>Proof:</b> <br> <br>\n",
    "$A \\subseteq B \\implies \\forall x$ if $x \\in A \\implies x \\in B\\ \\ \\ \\    (1)$ <br>\n",
    "$B \\subseteq A \\implies \\forall x$ if $x \\in B \\implies x \\in A \\ \\ \\ \\   (2)$ <br>\n",
    "$(1) \\land (2) \\implies A = B$ <br> <br>\n",
    "$\\square$"
   ]
  },
  {
   "cell_type": "markdown",
   "metadata": {},
   "source": [
    "#### Prove that:\n",
    "<br> \n",
    "if $B \\subset A$ then $A \\cap B = B$ <br>\n",
    "<br>\n",
    "<b>Proof:</b> <br>  <br>\n",
    "$x \\in A \\cap B \\implies x \\in A \\land x \\in B \\implies x \\in B \\implies A \\cap B \\subset B\\ \\ \\ (1) $ <br>\n",
    "$(x \\in B \\land B \\subset A) \\implies x \\in B \\implies x \\in A \\implies x \\in A \\cap B \\implies B \\subset A \\cap B \\ \\ \\ (2)$ <br>\n",
    "$(1) \\land (2) \\implies A \\cap B = B$ <br> <br>\n",
    "$\\square$"
   ]
  },
  {
   "cell_type": "markdown",
   "metadata": {},
   "source": [
    "#### Prove that:\n",
    "<br>\n",
    "$A \\cap B = B \\cap A$ <br> <br>\n",
    "<b>Proof:</b> <br> <br>\n",
    "$x \\in A \\cap B \\iff \\forall x \\ (x \\in A \\land x \\in B) \\iff \\forall x \\ (x \\in B \\land x \\in A) \\iff x \\in B \\cap A$ <br> <br>\n",
    "$\\square$"
   ]
  },
  {
   "cell_type": "markdown",
   "metadata": {},
   "source": [
    "#### Prove that:\n",
    "<br>\n",
    "if $B \\subset A$ then $A \\cup B = A$ <br> <br>\n",
    "<b>Proof:</b> <br> <br>\n",
    "$x \\in A \\implies x \\in A \\lor x \\in B \\implies x \\in A \\cup B \\implies A \\subset A \\cup B\\ \\ \\ (1)$ <br>\n",
    "$x \\in A \\cup B \\implies x \\in A \\lor x \\in B$ <br>\n",
    "If $x \\in A \\implies x \\in A \\ \\ \\ (2)$<br>\n",
    "If $x \\in B.$ We know that $ B \\subset A $. This implies $\\forall x \\  (x \\in B \\implies x \\in A) \\ \\ \\ (3) $ <br>\n",
    "$(2) \\land (3)  \\implies A \\cup B \\subset A \\ \\ \\ (4)$ <br>\n",
    "$(1) \\land (4) \\implies A \\cup B = A$ <br> <br>\n",
    "$\\square$"
   ]
  },
  {
   "cell_type": "markdown",
   "metadata": {},
   "source": [
    "#### Prove that:\n",
    "<br>\n",
    "$A \\cup B = B \\cup A$\n",
    "<br> <br>\n",
    "<b>Proof:</b> <br> <br>\n",
    "$x \\in A \\cup B \\iff \\forall x \\ (x \\in A \\lor x \\in B) \\iff \\forall x \\ (x \\in B \\lor x \\in A) \\iff x \\in B \\cup A$ <br> <br>\n",
    "$\\square$"
   ]
  },
  {
   "cell_type": "markdown",
   "metadata": {},
   "source": [
    "#### Prove that:\n",
    "- for every injection $m:A \\to B$ and pair of functions $f, g :C \\to A$: if $m \\circ f = m \\circ g$ then $f = g$ and vice-versa\n",
    "- for every surjection $e:A \\to B$ and every pair of functions $f, g :B \\to C$: if $f \\circ e = g \\circ e$ then $f = g$ and vice-versa \n",
    "<br> <br>\n",
    "<b>Proof:</b> <br> <br>\n",
    "- $m \\circ f = m \\circ g \\implies \\forall x \\in A \\ m(f(x)) = m(g(x))$. m is injective function, so $f(x)=g(x).$ <br>\n",
    "$f(x)=g(x)$. <br>\n",
    "Assume that $m(f(x)) \\neq m(g(x))$. Because of m is injective function, this implies that $f(x) \\neq g(x)$. It contradicts $f(x) = g(x)$. So $m(f(x)) = m(g(x))$. <br> <br>\n",
    "$\\square$ <br> <br>\n",
    "- $f \\circ e = g \\circ e \\implies (\\forall x) f(e(x)) = g(e(x)).$ Since e is surjection $\\forall y \\ \\ \\exists x, \\ \\ e(x) = y \\implies f(y) = g(y) \\implies f = g .$ <br>\n",
    "If $f = g$, then $\\forall x \\  f(x) = g(x)$. This implies that $f(e(x)) = g(e(x))$. <br> <br>\n",
    "$\\square$"
   ]
  },
  {
   "cell_type": "markdown",
   "metadata": {},
   "source": [
    "#### Prove that \n",
    "- composition of injections is injection itself\n",
    "- composition of surjections is surjection itself\n",
    "- composition of bijections is bijection itself\n",
    "<br>\n",
    "or give a counterexamples <br> <br>\n",
    "<b>Proof:</b> <br> <br>\n",
    "- Suppose $f:A \\to B$ and $g: B \\to C$ and $f$ and $g$ are injective functions. <br>\n",
    "Since $f$ is injective, if $f(g(a_1)) = f(g(a_2)) \\implies g(a_1) = g(a_2)$. Since $g$ is injective, if $g(a_1) = g(a_2) \\implies a_1 = a_2$. <br> <br>\n",
    "$\\square$ <br> <br>\n",
    "- Suppose $f:A \\to B$ and $g: B \\to C$ and $f$ and $g$ are surjective functions. <br>\n",
    "Since $g$ is surjective, $\\forall y \\in C \\ \\  \\exists x_1 \\in B$ s.t. $g(x_1)=y$. <br>\n",
    "Since $f$ is surjective, $\\forall x_1 \\in B \\ \\ \\exists x_2 \\in A$ s.t. $f(x_2)=x_1$ <br>\n",
    "Since $y=g(f(x_2)) \\implies$ composition is surjective. <br> <br>\n",
    "$\\square$ <br> <br>\n",
    "- Since composition is surjective and injective at the same time, this implies that composition is bijective. <br> <br>\n",
    "$\\square$"
   ]
  },
  {
   "cell_type": "markdown",
   "metadata": {},
   "source": [
    "#### Prove that for each set $A$:\n",
    "- $A \\cong A$ <br> <br>\n",
    "<b>Proof:</b> <br> <br>\n",
    "Suppose $ f : A \\to A$ . If $f(a^{'}) = f(a^{''}) \\implies a^{'} = a^{''}$, so $f$ is  injective. For any $y \\in A $ there exists $y \\in A$ such that $f(x) = x$, so $f$ is  surjective. This implies that $f$ is bijective. So $A \\cong A$. <br> <br>\n",
    "$\\square$ <br> <br>\n",
    "- if $B \\cong A$ then $B \\cong A$ for every pair of sets $A$ and $B$ <br> <br>\n",
    "<b>Proof:</b> <br> <br>\n",
    "$A \\cong B$, so there exists bijective function $f : A \\to B$. $f$ is bijective, so there exists $f^{-1}$ bijective function from $B$ to $A$, so $B \\cong A$. <br> <br>\n",
    "$\\square$ <br> <br>\n",
    "- if $A \\cong B$ and $B \\cong C$ then $A \\cong C$ for every triplet $A$, $B$ and $C$ <br> <br>\n",
    "<b>Proof:</b> <br> <br>\n",
    "$A \\cong B$, so $\\exists f : A \\to B$ bijective function. $B \\cong C$, so $\\exists g : B \\to C$ bijective function. So if we took $g \\circ f$ function, this will be bijective function from $A$ to $C$. So $A \\cong C$. <br> <br>\n",
    "$\\square$"
   ]
  },
  {
   "cell_type": "markdown",
   "metadata": {},
   "source": [
    "#### Prove that:\n",
    "<br>\n",
    "there exists a bijection between set of natural and even numbers <br> <br>\n",
    "<b>Proof:</b> <br> <br>\n",
    "There exists $f(x) = 2x$ bijective function from natural numbers to even numbers. <br> <br>\n",
    "$\\square$"
   ]
  },
  {
   "cell_type": "markdown",
   "metadata": {},
   "source": [
    "#### Prove that:\n",
    "<br>\n",
    "if we have a bijection between two finite sets than they have an equal number of elements <br> <br>\n",
    "<b>Proof:</b> <br> <br>\n",
    "Assume that this two finite sets don't have an equal number of elements. <br>\n",
    "suppose that $f:A \\to B$ is a bijective function. <br>\n",
    "If number of elements in $A$ is more than number of elements in $B$, then $\\exists a,b \\in A$ s.t. $f(a) = f(b)$. So $f$ is not surjective. <br>\n",
    "If number of elements in $B$ is more than number of elements in $A$, then $\\exists y \\in B$ for which $\\nexists x \\in A$ s.t. $f(x) = y$. So $f$ is not surjective. <br>\n",
    "Because of the contradiction, it can't be the case that the statement is false, so it must be true. <br> <br>\n",
    "$\\square$"
   ]
  },
  {
   "cell_type": "markdown",
   "metadata": {},
   "source": [
    "#### Prove that:\n",
    "<br>\n",
    "$A \\times B \\cong B \\times A$ <br> <br>\n",
    "<b>Proof:</b> <br> <br>\n",
    "$A \\times B = \\{(a,b) : a \\in A \\land b \\in B\\}$ and $B \\times A = \\{(b,a) : b \\in B \\land a \\in A\\}$. If we consider $f: A \\times B \\to B \\times A,$ s.t $f(a,b) = (b,a)$, then $f$ will be a bijective function from $A \\times B$ to $B \\times A$. So $A \\times B \\cong B \\times A$. <br> <br>\n",
    "$\\square$"
   ]
  },
  {
   "cell_type": "markdown",
   "metadata": {},
   "source": [
    "$\\cap_{i\\in I}A_i$ and $\\cup_{i\\in I}A_i$"
   ]
  },
  {
   "cell_type": "code",
   "execution_count": 2,
   "metadata": {},
   "outputs": [
    {
     "data": {
      "text/plain": [
       "{2}"
      ]
     },
     "execution_count": 2,
     "metadata": {},
     "output_type": "execute_result"
    }
   ],
   "source": [
    "# Inplement in python\n",
    "A = [{1,2,3}, {2,3,4},{2,1,5}]\n",
    "def intersection(A):\n",
    "    intersect = A[1]\n",
    "    for item in A:\n",
    "        intersect = intersect.intersection(item)\n",
    "    return intersect\n",
    "intersection(A)   "
   ]
  },
  {
   "cell_type": "code",
   "execution_count": 32,
   "metadata": {},
   "outputs": [
    {
     "name": "stdout",
     "output_type": "stream",
     "text": [
      "{1, 2, 3, 4, 5}\n"
     ]
    }
   ],
   "source": [
    "A = [{1,2,3}, {2,3,4},{2,1,5}]\n",
    "def union(A):\n",
    "    total_union = A[0]\n",
    "    for item in A:\n",
    "        total_union = total_union.union(item)\n",
    "    return total_union\n",
    "print(union(A))"
   ]
  },
  {
   "cell_type": "markdown",
   "metadata": {},
   "source": [
    "We can also define cartesian product of any \"number\" of sets $\\prod_{i \\in I}{A_i}$"
   ]
  },
  {
   "cell_type": "code",
   "execution_count": 33,
   "metadata": {},
   "outputs": [
    {
     "name": "stdout",
     "output_type": "stream",
     "text": [
      "(1, 2, 1)\n",
      "(1, 2, 2)\n",
      "(1, 2, 5)\n",
      "(1, 3, 1)\n",
      "(1, 3, 2)\n",
      "(1, 3, 5)\n",
      "(1, 4, 1)\n",
      "(1, 4, 2)\n",
      "(1, 4, 5)\n",
      "(2, 2, 1)\n",
      "(2, 2, 2)\n",
      "(2, 2, 5)\n",
      "(2, 3, 1)\n",
      "(2, 3, 2)\n",
      "(2, 3, 5)\n",
      "(2, 4, 1)\n",
      "(2, 4, 2)\n",
      "(2, 4, 5)\n",
      "(3, 2, 1)\n",
      "(3, 2, 2)\n",
      "(3, 2, 5)\n",
      "(3, 3, 1)\n",
      "(3, 3, 2)\n",
      "(3, 3, 5)\n",
      "(3, 4, 1)\n",
      "(3, 4, 2)\n",
      "(3, 4, 5)\n"
     ]
    }
   ],
   "source": [
    "# Inplement in python\n",
    "import itertools\n",
    "A = [{1,2,3}, {2,3,4},{2,1,5}]\n",
    "for item in itertools.product(*A):\n",
    "    print(item)\n",
    "# list(zip(*A))"
   ]
  },
  {
   "cell_type": "markdown",
   "metadata": {},
   "source": [
    "#### Prove that:\n",
    "<br>\n",
    "$$A \\cap (B \\cup C)=(A \\cap B) \\cup (A\\cap C)$$\n",
    "$$A \\cup (B \\cap C)=(A \\cup B) \\cap (A\\cup C)$$\n",
    "\n",
    "<br>\n",
    "<b>Proof:</b>\n",
    "\n",
    "$1.\\  $let $x \\in A \\cap (B \\cup C)$. Then $x \\in A \\land x \\in (B \\cup C)$. So $x \\in A \\land (x \\in B \\lor x \\in C)$.<br> If $x \\in A \\land x \\in B \\implies x \\in A \\cap B \\implies x \\in ((A \\cap B) \\cup (A\\cap C))$ $\\ \\ \\ (1) $<br> if $x \\in A \\land x \\in C \\implies x \\in A\\cap C \\implies x \\in ((A \\cap B) \\cup (A\\cap C))$ $\\ \\ \\ (2) $<br>\n",
    "$(1) \\land (2) \\implies $$A \\cap (B \\cup C) \\subset (A \\cap B) \\cup (A\\cap C)$ $\\ \\ \\ (3)$ <br>\n",
    "let $x \\in (A \\cap B) \\cup (A\\cap C) \\implies x \\in A \\cap B \\lor x \\in A \\cap C.$ <br>\n",
    "If $x \\in A \\cap B \\implies x\\in A \\land x \\in B \\implies x \\in A \\land x \\in B \\cup C \\implies x \\in A \\cap (B \\cup C) \\ \\ \\ (4)$ <br>\n",
    "If $x \\in A \\cap C \\implies x \\in A \\land x \\in C \\implies x \\in A \\land x \\in B \\cup C \\implies x \\in A \\cap (B \\cup C)\\ \\ \\ (5) $ <br>\n",
    "$(4) \\land (5) \\implies (A \\cap B) \\cup (A\\cap C) \\subset A \\cap (B \\cup C) \\ \\ \\ (6)$ <br>\n",
    "$(3) \\land (6) \\implies A \\cap (B \\cup C)=(A \\cap B) \\cup (A\\cap C)$ <br> <br>\n",
    "$\\square$ <br> <br>\n",
    "$2.\\  $let $x \\in A \\cup (B \\cap C) \\implies x \\in A \\lor x \\in B \\cap C$. <br>\n",
    "If $x \\in A \\implies x \\in (A \\cup B) \\cap (A\\cup C) \\ \\ \\ (1)$ <br>\n",
    "If $x \\in B \\cap C \\implies x \\in B \\land x \\in C \\implies x \\in A \\cup B \\land x \\in A \\cup C \\implies x \\in (A \\cup B) \\cap (A\\cup C) \\ \\ \\ (2)$ <br>\n",
    "$(1) \\land (2) \\implies A \\cup (B \\cap C) \\subset ((A \\cup B) \\cap (A\\cup C)) \\ \\ \\ (3)$ <br>\n",
    "let $x \\in (A \\cup B) \\cap (A\\cup C) \\implies x \\in (A \\cup B) \\land x \\in (A\\cup C) \\implies (x \\in A \\lor x \\in B) \\land (x \\in A \\lor x \\in C)$ <br>\n",
    "If $x \\in A \\implies x \\in A \\cup (B \\cap C) \\ \\ \\ (4) $ <br>\n",
    "If $x \\notin A \\implies x \\in B \\land x \\in C \\implies x\\in B \\cap C \\implies x \\in A \\cup (B \\cap C) \\ \\ \\ (5)$ <br>\n",
    "$(4) \\land (5) \\implies ((A \\cup B) \\cap (A\\cup C)) \\subset A \\cup (B \\cap C) \\ \\ \\ (6)$ <br>\n",
    "$(3) \\land (6) \\implies A \\cup (B \\cap C)=(A \\cup B) \\cap (A\\cup C)$ <br> <br>\n",
    "$\\square$"
   ]
  },
  {
   "cell_type": "markdown",
   "metadata": {},
   "source": [
    "# Linear Algebra"
   ]
  },
  {
   "cell_type": "markdown",
   "metadata": {},
   "source": [
    "#### Prove that:\n",
    "<br>\n",
    "$(AB)^{T} = B^{T}A^{T}$ for each pair of matrices $A, B \\in \\mathbb{R}^{n \\times m}$ <br> <br>\n",
    "<b>Proof:</b> <br> <br>\n",
    "\n",
    "$$A = \n",
    " \\begin{pmatrix}\n",
    "  a_{1,1} & a_{1,2} & \\cdots & a_{1,n} \\\\\n",
    "  a_{2,1} & a_{2,2} & \\cdots & a_{2,n} \\\\\n",
    "  \\vdots  & \\vdots  & \\ddots & \\vdots  \\\\\n",
    "  a_{m,1} & a_{m,2} & \\cdots & a_{m,n} \n",
    " \\end{pmatrix} \\ \\ \\  \\ \\ \\ \\ \\ \\ \\ \\ \n",
    " B = \n",
    " \\begin{pmatrix}\n",
    "  b_{1,1} & b_{1,2} & \\cdots & b_{1,m} \\\\\n",
    "  b_{2,1} & b_{2,2} & \\cdots & b_{2,m} \\\\\n",
    "  \\vdots  & \\vdots  & \\ddots & \\vdots  \\\\\n",
    "  b_{n,1} & b_{n,2} & \\cdots & b_{n,m} \n",
    " \\end{pmatrix}$$ <br>\n",
    " $$A^{T} = \n",
    " \\begin{pmatrix}\n",
    "  a_{1,1} & a_{2,1} & \\cdots & a_{m,1} \\\\\n",
    "  a_{1,2} & a_{2,2} & \\cdots & a_{m,2} \\\\\n",
    "  \\vdots  & \\vdots  & \\ddots & \\vdots  \\\\\n",
    "  a_{1,n} & a_{2,n} & \\cdots & a_{m,n} \n",
    " \\end{pmatrix} \\ \\ \\  \\ \\ \\ \\ \\ \\ \\ \\ \n",
    " B^{T} = \n",
    " \\begin{pmatrix}\n",
    "  b_{1,1} & b_{2,1} & \\cdots & b_{n,1} \\\\\n",
    "  b_{1,2} & b_{2,2} & \\cdots & b_{n,2} \\\\\n",
    "  \\vdots  & \\vdots  & \\ddots & \\vdots  \\\\\n",
    "  b_{1,m} & b_{2,m} & \\cdots & b_{n,m} \n",
    " \\end{pmatrix}$$ <br><br>\n",
    "$$(AB)_{i,j} = \\sum_{k=1}^n a_{i,k}b_{k,j}.$$ <br>\n",
    "$$(AB)^T_{i,j} = (AB)_{j,i} = \\sum_{k=1}^n a_{j,k}b_{k,i}.$$ <br>\n",
    "$$(B^T A^T)_{i,j} = \\sum_{k=1}^n (B)_{i,k}^T (A)_{k,j}^T = \\sum_{k=1}^n b_{k,i} a_{j,k}.$$\n",
    "\n",
    "So elements of matrices of $(AB)^{T}$ and $B^{T}A^{T}$ are same. So matrices are equal. <br> <br>\n",
    "$\\square$"
   ]
  },
  {
   "cell_type": "code",
   "execution_count": null,
   "metadata": {},
   "outputs": [],
   "source": [
    "## Functions on tensors"
   ]
  },
  {
   "cell_type": "markdown",
   "metadata": {},
   "source": [
    "#### Write combination for $XOR$ calculation"
   ]
  },
  {
   "cell_type": "code",
   "execution_count": 12,
   "metadata": {},
   "outputs": [
    {
     "name": "stdout",
     "output_type": "stream",
     "text": [
      "[0, 0] [0.]\n",
      "[0, 1] [1.]\n",
      "[1, 0] [1.]\n",
      "[1, 1] [0.]\n"
     ]
    }
   ],
   "source": [
    "import numpy as np\n",
    "import math\n",
    "sig = np.vectorize(lambda x: 1 / (1 + math.exp(-x)))\n",
    "W = np.array([20, 20]) # Weights\n",
    "b = np.array([-30]) # bias\n",
    "ff = lambda _X, _W, _b: sig(np.dot(_W.T, _X) + _b)\n",
    "BA = [[0, 0], [0, 1], [1, 0], [1, 1]]\n",
    "b1 = np.array([-30])\n",
    "b2 = np.array([-10])\n",
    "for ba in BA:\n",
    "    print(ba, np.around(ff(ba, W, b2))-np.around(ff(ba, W, b1)))"
   ]
  },
  {
   "cell_type": "code",
   "execution_count": null,
   "metadata": {},
   "outputs": [],
   "source": []
  }
 ],
 "metadata": {
  "kernelspec": {
   "display_name": "Python 3",
   "language": "python",
   "name": "python3"
  },
  "language_info": {
   "codemirror_mode": {
    "name": "ipython",
    "version": 3
   },
   "file_extension": ".py",
   "mimetype": "text/x-python",
   "name": "python",
   "nbconvert_exporter": "python",
   "pygments_lexer": "ipython3",
   "version": "3.7.4"
  }
 },
 "nbformat": 4,
 "nbformat_minor": 4
}

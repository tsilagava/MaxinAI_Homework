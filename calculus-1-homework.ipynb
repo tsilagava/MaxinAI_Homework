{
 "cells": [
  {
   "cell_type": "code",
   "execution_count": null,
   "metadata": {},
   "outputs": [],
   "source": [
    "%load_ext autoreload\n",
    "%autoreload 2\n",
    "\n",
    "%matplotlib inline"
   ]
  },
  {
   "cell_type": "markdown",
   "metadata": {},
   "source": [
    "## Basic setup"
   ]
  },
  {
   "cell_type": "markdown",
   "metadata": {},
   "source": [
    "Create anaconda environment\n",
    "<br>\n",
    "```bash\n",
    "conda create -n ml python=3.7.4 jupyter\n",
    "```\n",
    "Install fastai library\n",
    "<br>\n",
    "```bash\n",
    "conda install -c pytorch -c fastai fastai\n",
    "```"
   ]
  },
  {
   "cell_type": "code",
   "execution_count": null,
   "metadata": {},
   "outputs": [],
   "source": [
    "!pip install https://github.com/ipython-contrib/jupyter_contrib_nbextensions/tarball/master\n",
    "!pip install jupyter_nbextensions_configurator\n",
    "!jupyter contrib nbextension install --user\n",
    "!jupyter nbextensions_configurator enable --user"
   ]
  },
  {
   "cell_type": "markdown",
   "metadata": {},
   "source": [
    "# Metric spaces"
   ]
  },
  {
   "cell_type": "markdown",
   "metadata": {},
   "source": [
    "#### Prove that:\n",
    "For every metric space (X, d):\n",
    "- For eny $\\mathcal{U} = \\{U | U$ is open in $(X, d)\\}$ holds $\\bigcup_{U \\in \\mathcal{U}} U$ is open in $(X, d)$  <br> <br>\n",
    "<b>Proof:</b> <br> <br>\n",
    "${U}$ is an open set, So for any element from $U$ we have open ball, s.t. this open ball is subset of $U$ and $U$ is subset of $\\bigcup_{U \\in \\mathcal{U}} U$. So $\\bigcup_{U \\in \\mathcal{U}} U$ is open in $(X, d)$. <br> <br>\n",
    "$\\square$ <br> <br>\n",
    "- For eny two $U, V \\subset X$ open in $(X, d)$ holds: $U \\cap V$ is open in $(X, d)$   <br> <br>\n",
    "<b>Proof:</b> <br> <br>\n",
    "If we choose any $x$ element from intersection, then $x \\in U$ and $x \\in V$. We know that both $U$ and $V$ are open, so x should have an open ball around it. <br>\n",
    "Assume that $U \\cap V$ is not open, so $\\exists y \\in U \\cap V$ s.t. y is on the boundary of $U \\cap V$. So y is either on the boundary of $U$ or on the boundary of $V$. This is in condtradiction to the fact that $U$ and $V$ are open sets. So $U \\cap V$ is an open set. <br> <br>\n",
    "$\\square$ <br> <br>\n",
    "- $X$ is open in $(X, d)$ <br> <br>\n",
    "<b>Proof:</b> <br> <br>\n",
    "Let $x \\in X$. We know that, the $r \\in \\mathbb{R}$ radious open ball with center $x \\in X$ in metric space $(X, d)$ is the set $B(x, r) = \\{y|d(x, y) \\lt r \\}$. So an open ball of $x$ is subset of $X$. This implies that $A$ is open in $(X, d)$. <br> <br>\n",
    "$\\square$ <br> <br>\n",
    "- $\\emptyset$ is open in $(X, d)$ <br> <br>\n",
    "<b>Proof:</b> <br> <br>\n",
    "Empty set has no elements in it. So there is no an element in empty set, which has not an open ball. So $\\emptyset$ is open in $(X, d)$. <br> <br>\n",
    "$\\square$ "
   ]
  },
  {
   "cell_type": "markdown",
   "metadata": {},
   "source": [
    "#### Prove that:\n",
    "- For eny finity set $(U)_{i=1}^{n}$ of open sets in $(X, d)$, $\\bigcap_{i=1}^{n}U$ is open in $(X, d)$  <br> <br>\n",
    "<b>Proof:</b> <br> <br>\n",
    "If we choose any $x$ element from $\\bigcap_{i=1}^{n}U$, then $x$ is in every set of $(U)_{i=1}^{n}$. We know that $(U)_{i=1}^{n}$ are open sets, so $x$ should have an open ball around it. <br>\n",
    "Assume that $\\bigcap_{i=1}^{n}U_i$ is not open, so $\\exists y \\in \\bigcap_{i=1}^{n}U_i$ s.t. y is on the boundary of $\\bigcap_{i=1}^{n}U_i$. So y is on the boundary of one of the $U$. This is in condtradiction to the fact that $(U)_{i=1}^{n}$ are open sets. So $\\bigcap_{i=1}^{n}U$  is an open set. <br> <br>\n",
    "$\\square$ <br> <br>"
   ]
  },
  {
   "cell_type": "markdown",
   "metadata": {},
   "source": [
    "#### Prove that for set $U \\subset X$ is open if and only if for each point $x \\in U$ there exists the open neighbourhood $V$ of $x$ such that $V \\subset U$ <br> <br>\n",
    "<b>Proof:</b> <br> <br>\n",
    "$\\Longrightarrow$: $U \\subset X$ is open, then from the definition of open set there exists $r \\in R$ s.t. $B(x, r) \\subset U$. So there exists open neighbourhood of $x$ which is subset of $U$. <br> <br>\n",
    "$\\Longleftarrow$: Assume to the contrary that $\\forall x\\in U$ there exists the open neighbourhood $V$ of $x$ such that $V \\subset U$ and $U$ is not open set. So $\\exists x \\in U$, which has not $B(x, r) \\subset U$ open ball. This contradicts to the fact that for each point $x \\in U$ there exists the open neighbourhood $V$ of $x$ such that $V \\subset U$. So $U$ is an open set. <br> <br>\n",
    "$\\square$ <br> <br>\n"
   ]
  },
  {
   "cell_type": "markdown",
   "metadata": {},
   "source": [
    "#### Prove that, closed ball is closed subset in $(X, d)$ <br> <br>\n",
    "<b>Proof:</b> <br> <br>\n",
    "Suppose that $B(x_0, r)$ is a closed ball. And $z \\in X \\setminus B(x_0, r)$. <br>\n",
    "$d(x_0, r) > r \\implies d(x_0, r) - r > 0$ <br>\n",
    "$d_1 \\equiv d(x_0, r) - r $ <br>\n",
    "Take $y$ point from neighbourhood of $z$. From the triangle inequality we have: <br>\n",
    "$d(z, x_0) \\leq d(x_0, y) + d(y, z) < d(x_0, y) + d_1 \\implies d(x_0, y) > d(z, x_0) - d_1 = d(z, x_0) - (d(x_0, r) - r) = r \\implies y \\in X \\setminus B(x_0, r)$ <br>\n",
    "So for any point from $X \\setminus B(x_0, r)$ there exists open neighbourhood of this point which is subset of $X \\setminus B(x_0, r)$. So $X \\setminus B(x_0, r)$ is open. So $B(x_0, r)$ is closed. <br> <br>\n",
    "$\\square$\n"
   ]
  },
  {
   "cell_type": "markdown",
   "metadata": {},
   "source": [
    "#### Prove that\n",
    "For every metric space (X, d):\n",
    "- For eny $\\mathcal{F} = \\{F | F$ is closed in $(X, d)\\}$ holds $\\bigcap_{F \\in \\mathcal{F}} F$ is closed in $(X, d)$ <br> <br>\n",
    "<b>Proof:</b> <br> <br>\n",
    "From the De Morgan's laws we have: <br>\n",
    "$(\\bigcap_{F \\in \\mathcal{F}} F)^c = \\bigcup_{F \\in \\mathcal{F}} F^c $. <br>\n",
    "Since $F$ is closed set, then $F^c$ is open set. And union of open sets is open. So $\\bigcup_{F \\in \\mathcal{F}} F^c $ and $(\\bigcap_{F \\in \\mathcal{F}} F)^c$ is open. This implies that $(\\bigcap_{F \\in \\mathcal{F}} F)$ is closed. <br> <br> \n",
    "$\\square$ <br> <br>\n",
    "- For eny two $F_1, F_2 \\subset X$ closed in $(X, d)$ holds: $F_1 \\cup F_2$ is closed in $(X, d)$ <br> <br>\n",
    "<b>Proof:</b> <br> <br>\n",
    "From the De Morgan's laws we have: <br>\n",
    "$(F_1 \\cup F_2)^c = F_1^c \\cap F_2^c$  <br>\n",
    "$F_1$ and $F_2$ are closed sets, so there complements will be open sets. We know that union of two open sets is open, so $F_1^c \\cap F_2^c$ is open, so $(F_1 \\cup F_2)^c$ is open. This implies that $F_1 \\cup F_2$ is closed set. <br> <br>\n",
    "$\\square$ <br> <br>\n",
    "- $X$ is closed in $(X, d)$ <br> <br>\n",
    "<b>Proof:</b> <br> <br>\n",
    "We know that $\\emptyset$ is open in $(X, d)$, so it's complement, which is $X$, will be closed in $(X, d)$. <br> <br>\n",
    "$\\square$ <br> <br>\n",
    "\n",
    "- $\\emptyset$ is closed in $(X, d)$ <br> <br>\n",
    "<b>Proof:</b> <br> <br>\n",
    "We know that $X$ is open in $(X, d)$, so it's complement, which is $\\emptyset$, will be closed in $(X, d)$. <br> <br>\n",
    "$\\square$ <br> <br>"
   ]
  },
  {
   "cell_type": "markdown",
   "metadata": {},
   "source": [
    "#### Prove that:\n",
    "- For eny finity set $(F)_{i=1}^{n}$ of closed sets in $(X, d)$, $\\bigcup_{i=1}^{n}F$ is closed in $(X, d)$ <br> <br>\n",
    "<b>Proof:</b> <br> <br>\n",
    "From the De Morgan's laws we have: <br>\n",
    "$(\\bigcup_{i=1}^{n}F)^c = \\bigcap_{i=1}^{n}F^c$ <br>\n",
    "We know that $F$ is closed, so it's complement will be open. And intersection of finite open sets is open. So $\\bigcap_{i=1}^{n}F^c$ is open. So $(\\bigcup_{i=1}^{n}F)^c$ is open. This implies that $\\bigcup_{i=1}^{n}F$ is closed. <br> <br>\n",
    "$\\square$\n"
   ]
  },
  {
   "cell_type": "markdown",
   "metadata": {},
   "source": [
    "#### Prove that, if $F \\subset X$ is closed then $X - F$ is open in $(X, d)$ <br> <br>\n",
    "<b>Proof:</b> <br> <br>\n",
    "$F$ is closed, so it contains all of it's boundary points. For every point  $x \\in X \\setminus F$ there exists open neighbourhood of $x$, which doesn't contain points from $x$. So $X \\setminus F$ will be open. <br> <br>\n",
    "$\\square$ <br> <br>"
   ]
  },
  {
   "cell_type": "markdown",
   "metadata": {},
   "source": [
    "# Metrics in Euclidean spaces"
   ]
  },
  {
   "cell_type": "markdown",
   "metadata": {},
   "source": [
    "#### Prove that:\n",
    "- for every $u, v \\in \\mathbb{R}^{n}$: $d(u, v) \\geq 0$ <br> <br>\n",
    "<b>Proof:</b> <br> <br>\n",
    "$||u-v||_{2} = (\\sum_{i=1}^{n}(u_i-v_i)^{2})^{1/2} \\geq 0$ <br> <br>\n",
    "$\\square$ <br> <br>\n",
    "- for every $v \\in \\mathbb{R}^{n}$: $d(v, v) = 0$ <br> <br>\n",
    "<b>Proof:</b> <br> <br>\n",
    "$||v-v||_{2} = (\\sum_{i=1}^{n}(v_i-v_i)^{2})^{1/2} = 0$ <br> <br>\n",
    "$\\square$ <br> <br>\n",
    "- for every $u, v \\in \\mathbb{R}^{n}$: $d(u, v) = d(v, u)$ (symmetry) <br> <br>\n",
    "<b>Proof:</b> <br> <br>\n",
    "$d(u, v)=||u-v||_{2} = (\\sum_{i=1}^{n}(u_i-v_i)^{2})^{1/2} = (\\sum_{i=1}^{n}(v_i-u_i)^{2})^{1/2} = d(v,u)$ <br> <br>\n",
    "$\\square$ <br> <br>\n",
    "- for every $u, v, w \\in \\mathbb{R}^{n}$: $d(u, w) \\leq d(v, u) + d(v, w)$ (triangle inequality) <br> <br>\n",
    "<b>Proof:</b> <br> <br>\n",
    "\n",
    "$\\square$ <br> <br>"
   ]
  },
  {
   "cell_type": "markdown",
   "metadata": {},
   "source": [
    "#### Prove the same properties hold for $d(u, v) = ||u-v||_1$ ($||u-v||_1 = \\sum_{i = 1}^{n}|u_i - v_i|$) <br> <br>\n",
    "<b>Proof:</b> <br> <br>\n",
    "- $d(u, v)=|u-v||_1 = \\sum_{i = 1}^{n}|u_i - v_i| \\geq 0$\n",
    "- $d(v, v) = ||v-v||_1 = \\sum_{i = 1}^{n}|v_i - v_i| = 0$\n",
    "- $d(u, v) = ||u-v||_1 = \\sum_{i = 1}^{n}|u_i - v_i| = \\sum_{i = 1}^{n}|v_i - u_i| = ||v-u||_1= d(v, u)$ \n",
    "- $d(u, w) = ||u-w||_1 = \\sum_{i = 1}^{n}|u_i - w_i| = \\sum_{i = 1}^{n}|u_i -v_i +v_i- w_i| \\leq \\sum_{i = 1}^{n}|u_i -v_i| + \\sum_{i = 1}^{n}|v_i -w_i| = ||u-v||_1 + ||v-w||_1 = d(u, v) + d(v, w)$\n",
    "<br> <br>\n",
    "$\\square$ <br> <br>"
   ]
  },
  {
   "cell_type": "markdown",
   "metadata": {},
   "source": [
    "We can write sequence as $(x_i)_{i=1}^{\\infty} = (x_1, x_2, \\dots x_n)$ if $N_0 \\subset \\mathbb{N}$ is finite of $(x_i)_{i=1}^{\\infty} = (x_1, x_2, \\dots, x_n)$ if it's infinite\n",
    "<br>\n",
    "We say that point $x \\in X$ is a limit of the sequence $(x_i)_{i=1}^{\\infty}$ and write $\\lim_{n \\to \\infty}{x_n} = x$ if for every open set $U \\in X$ such that $x \\in U$ there exists $n_0 \\in \\mathbb{R}$ such that $x_i \\in U$ for every $i \\gt n_0$"
   ]
  },
  {
   "cell_type": "markdown",
   "metadata": {},
   "source": [
    "## Sequences and limits"
   ]
  },
  {
   "cell_type": "markdown",
   "metadata": {},
   "source": [
    "#### Prove that $x = \\lim_{n\\to\\infty}{x_n}$ in $(X, d)$ if and only if (iff) for every $r \\in \\mathbb{R}$ there exists $n_0 \\in \\mathbb{N}$ such that: $x_i \\in B(x, r)$ for every $i \\gt n_0$ <br> <br>\n",
    "<b>Proof:</b> <br> <br>\n"
   ]
  },
  {
   "cell_type": "markdown",
   "metadata": {},
   "source": [
    "$\\Rightarrow :$ $x = \\lim_{n\\to\\infty}{x_n}$ in $(X, d)$. from the definition of the limit, for every open set $U \\in X$ s.t. $x \\in U$ $\\exists n_0 \\in R$ s.t. $x_i \\in U$ for every $i > n_0$. $U$ is open set, so there exists $r \\in \\mathbb{R}$ s.t. $B(x, r) \\in U$. So for every $r \\in \\mathbb{R}$ there exists $n_0 \\in \\mathbb{N}$ s.t. $x_i \\in B(x, r)$ for every $i \\gt n_0$ <br> <br>\n",
    "$\\Leftarrow :$ for every $r \\in \\mathbb{R}$ there exists $n_0 \\in \\mathbb{N}$ such that: $x_i \\in B(x, r)$ for every $i \\gt n_0$"
   ]
  },
  {
   "cell_type": "markdown",
   "metadata": {},
   "source": [
    "#### Prove that if $x = \\lim_{n\\to\\infty}{x_n}$ and $x \\notin \\{-\\infty, \\infty\\}$ then $(x_i)_{i=1}^{\\infty} = (x_1, x_2, \\dots, x_n)$ is a Cauchy sequence\n",
    "<br>\n",
    "For closed set $F \\subset \\mathbb{R}^n$ and convergent sequence $(x_i)_{i=1}^{\\infty} = (x_1, x_2, \\dots, x_n)$ such that there exists $n_0 \\in \\mathbb{N}$ such that $x_i \\in F$ for each $i \\gt n_0$ then: $\\lim_{n\\to\\infty}{x_n} \\in F$"
   ]
  },
  {
   "cell_type": "markdown",
   "metadata": {},
   "source": [
    "#### Prove that if $F$ is open from previous example, statement does not hold. "
   ]
  },
  {
   "cell_type": "markdown",
   "metadata": {},
   "source": [
    "#### Prove that inherited metric is a metric  <br> <br>\n",
    "<b>Proof:</b> <br> <br>\n",
    "By definition, inherited metric has the same metric, so it satisfies properties of metric space. <br> <br>\n",
    "$\\square$ <br> <br>"
   ]
  },
  {
   "cell_type": "markdown",
   "metadata": {},
   "source": [
    "## Limits of functions"
   ]
  },
  {
   "cell_type": "markdown",
   "metadata": {},
   "source": [
    "Let $f:S \\to Y$ is function between subset $S \\subset X$ of a metric space $(X, d_x)$ and metric space $(Y, d_Y)$\n",
    "- We say that the limit of function $f:(S, d_x) \\to (Y, d_Y)$ between metric spaces in some limit point $c \\in X$ of the subset $S$ is $y \\in Y $if for each open neighborhood of $y \\in V \\subset Y$ there exists the open seighborhood of $c \\in U \\subset X$ such that $f(U \\cap S) \\subset V$\n",
    "<br>\n",
    "This definition is equiualent of definition:\n",
    "<br>\n",
    "- The limit of function $f:(S, d_X) \\to (Y, d_Y)$ between metric spaces in limit point $c \\in X$ of the subset $S$ is $y \\in Y $ if for each open ball $B(x, r) \\subset Y$ there exists the ball $B(c, l) \\subset X$ such that $f(B(c, l) \\cap S) \\subset B(y, r)$\n",
    "<br>\n",
    "or\n",
    "<br>\n",
    "- The limit of function $f:(S, d_X) \\to (Y, d_Y)$ between metric spaces in limit point $c \\in X$ of subset $S$ is $y \\in Y $ if for any $r \\in \\mathbb{R}$ there exists $l \\in \\mathbb{R}$ such that for every $x \\in S$ with $d_X(x, c) < l$ implies that $d_Y(f(x), y) < r$"
   ]
  },
  {
   "cell_type": "markdown",
   "metadata": {},
   "source": [
    "#### Prove that this three definitions are equiualent for eny function between eny two metric spaces"
   ]
  },
  {
   "cell_type": "markdown",
   "metadata": {},
   "source": [
    "## Continuous functions "
   ]
  },
  {
   "cell_type": "markdown",
   "metadata": {},
   "source": [
    "#### Prove that function is continuous in $c$ if for eny sequence $(x_n)_{n=1}^{\\infty} \\subset X$ such that $\\lim_{n \\to \\infty}x_n = c$ we have $\\lim_{n \\to \\infty}f(x_n) = f(c)$  <br> <br>\n",
    "<b>Proof:</b> <br> <br>\n",
    "$f$ is continious in $c \\in R$, so for given $\\epsilon > 0 \\  \\exists \\delta >0$ s.t. $|x-c|<\\delta \\implies |f(x) - f(c)| < \\epsilon$. <br>\n",
    "Suppose $\\lim_{n \\to \\infty} x_n = c.$ So $\\exists n_0$ s.t. for $n>n_0$ we have $|x_n - c| < \\delta$. This implies that $|f(x_n) - f(c)| < \\epsilon$. This implies that $\\lim_{n \\to \\infty} f(x_n) = f(c)$, when $n>n_0$. <br> <br>\n",
    "$\\square$ <br> <br>"
   ]
  },
  {
   "cell_type": "markdown",
   "metadata": {},
   "source": [
    "#### Prove that function is continuous if for every open set $V \\subset Y$ the $f^{-1}(V)$ is open in $X$ <br> <br>\n",
    "<b>Proof:</b> <br> <br>\n",
    "$V$ is open. So $f^{-1}(V)$ will be open. Suppose that $y=f(x_0)$. $\\forall \\epsilon > 0 \\ B(f(x_0), \\epsilon)$ is open in $Y$. So $f^{-1}(B(f(x_0), \\epsilon))$ is open in $X$. So $\\exists \\delta >0$ s.t. $B_1(x_0, \\delta) \\subset f^{-1}(B(f(x_0), \\epsilon))$ and $f(B_1(x_0, \\delta)) \\subset B(f(x_0), \\epsilon)$. So $f$ is continious. <br> <br>\n",
    "$\\square$ <br> <br>"
   ]
  },
  {
   "cell_type": "markdown",
   "metadata": {},
   "source": [
    "#### Prove that function is continuous if for every closed set $F \\subset Y$ the $f^{-1}(F)$ is open in $X$ <br> <br>\n",
    "<b>Proof: </b> <br> <br>\n",
    "$F$ is closed set. Then $Y \\setminus F$ will be open. $f^{-1}(Y \\setminus F)$ will be open. $f^{-1}(Y \\setminus F) = X \\setminus f^{-1}(F)$. So $f^{-1}(F)$ is closed.\n",
    "<br> <br>\n",
    "$\\square$ <br> <br>"
   ]
  },
  {
   "cell_type": "markdown",
   "metadata": {},
   "source": [
    "#### Prove that any composition of continous functions is continous <br> <br>\n",
    "<b>Proof:</b> <br> <br>\n",
    "Let $f: X \\to y$ nad $g: y \\to Z$. $f$ is contonious at the point of $c$, if $\\lim_{x \\to c} = f(c), \\ c \\in R$. $g$ is continious at the point $c'$. $\\lim_{y \\to c'}g(y) = g(c'), \\ c' \\in R$. Consider $f(x) = y$. $\\lim_{x \\to c} g(f(x)) = \\lim_{y \\to c'} g(y) = g(c')$ <br> <br>\n",
    "$\\square$ <br> <br>"
   ]
  },
  {
   "cell_type": "code",
   "execution_count": null,
   "metadata": {},
   "outputs": [],
   "source": []
  }
 ],
 "metadata": {
  "kernelspec": {
   "display_name": "Python 3",
   "language": "python",
   "name": "python3"
  },
  "language_info": {
   "codemirror_mode": {
    "name": "ipython",
    "version": 3
   },
   "file_extension": ".py",
   "mimetype": "text/x-python",
   "name": "python",
   "nbconvert_exporter": "python",
   "pygments_lexer": "ipython3",
   "version": "3.7.4"
  }
 },
 "nbformat": 4,
 "nbformat_minor": 4
}
